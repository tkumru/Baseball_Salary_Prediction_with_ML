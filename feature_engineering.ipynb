{
 "cells": [
  {
   "cell_type": "markdown",
   "id": "3d63d9a3",
   "metadata": {},
   "source": [
    "# Feature Engineering\n",
    "## Configuration / Building Spark"
   ]
  },
  {
   "cell_type": "code",
   "execution_count": 1,
   "id": "d0cc6410",
   "metadata": {},
   "outputs": [],
   "source": [
    "from pyspark.sql import SparkSession, functions as F\n",
    "import findspark\n",
    "\n",
    "findspark.init(\"C:\\Program Files\\Spark\\spark-3.3.1-bin-hadoop3\")\n",
    "\n",
    "spark = SparkSession.builder \\\n",
    "    .appName(\"House Price Model\") \\\n",
    "    .master(\"local[4]\") \\\n",
    "    .config(\"spark.sql.shuffle.partitions\", \"5\") \\\n",
    "    .config(\"spark.sql.adaptive.enabled\", True) \\\n",
    "    .getOrCreate()"
   ]
  },
  {
   "cell_type": "markdown",
   "id": "a589d88c",
   "metadata": {},
   "source": [
    "## Load Data"
   ]
  },
  {
   "cell_type": "code",
   "execution_count": 2,
   "id": "fa68ae70",
   "metadata": {},
   "outputs": [],
   "source": [
    "path = \"file:///Users/talha/OneDrive/Masaüstü/Talha Nebi Kumru/Data Science/Miuul/Machine Learning/Baseball_Salary_Prediction_with_ML/datasets/processed.parquet\"\n",
    "df = spark.read \\\n",
    "    .format(\"parquet\") \\\n",
    "    .option(\"inferSchema\", True) \\\n",
    "    .option(\"header\", True) \\\n",
    "    .load(path)"
   ]
  },
  {
   "cell_type": "code",
   "execution_count": 3,
   "id": "6abc19b0",
   "metadata": {},
   "outputs": [
    {
     "data": {
      "text/html": [
       "<div>\n",
       "<style scoped>\n",
       "    .dataframe tbody tr th:only-of-type {\n",
       "        vertical-align: middle;\n",
       "    }\n",
       "\n",
       "    .dataframe tbody tr th {\n",
       "        vertical-align: top;\n",
       "    }\n",
       "\n",
       "    .dataframe thead th {\n",
       "        text-align: right;\n",
       "    }\n",
       "</style>\n",
       "<table border=\"1\" class=\"dataframe\">\n",
       "  <thead>\n",
       "    <tr style=\"text-align: right;\">\n",
       "      <th></th>\n",
       "      <th>AtBat</th>\n",
       "      <th>Hits</th>\n",
       "      <th>HmRun</th>\n",
       "      <th>Runs</th>\n",
       "      <th>RBI</th>\n",
       "      <th>Walks</th>\n",
       "      <th>Years</th>\n",
       "      <th>CAtBat</th>\n",
       "      <th>CHits</th>\n",
       "      <th>CHmRun</th>\n",
       "      <th>CRuns</th>\n",
       "      <th>CRBI</th>\n",
       "      <th>CWalks</th>\n",
       "      <th>League</th>\n",
       "      <th>Division</th>\n",
       "      <th>PutOuts</th>\n",
       "      <th>Assists</th>\n",
       "      <th>Errors</th>\n",
       "      <th>Salary</th>\n",
       "      <th>NewLeague</th>\n",
       "    </tr>\n",
       "  </thead>\n",
       "  <tbody>\n",
       "    <tr>\n",
       "      <th>0</th>\n",
       "      <td>315</td>\n",
       "      <td>81</td>\n",
       "      <td>7</td>\n",
       "      <td>24</td>\n",
       "      <td>38</td>\n",
       "      <td>39</td>\n",
       "      <td>14</td>\n",
       "      <td>3449</td>\n",
       "      <td>835</td>\n",
       "      <td>69</td>\n",
       "      <td>321</td>\n",
       "      <td>414</td>\n",
       "      <td>375</td>\n",
       "      <td>N</td>\n",
       "      <td>W</td>\n",
       "      <td>632</td>\n",
       "      <td>43</td>\n",
       "      <td>10</td>\n",
       "      <td>475</td>\n",
       "      <td>N</td>\n",
       "    </tr>\n",
       "    <tr>\n",
       "      <th>1</th>\n",
       "      <td>479</td>\n",
       "      <td>130</td>\n",
       "      <td>18</td>\n",
       "      <td>66</td>\n",
       "      <td>72</td>\n",
       "      <td>76</td>\n",
       "      <td>3</td>\n",
       "      <td>1624</td>\n",
       "      <td>457</td>\n",
       "      <td>63</td>\n",
       "      <td>224</td>\n",
       "      <td>266</td>\n",
       "      <td>263</td>\n",
       "      <td>A</td>\n",
       "      <td>W</td>\n",
       "      <td>880</td>\n",
       "      <td>82</td>\n",
       "      <td>14</td>\n",
       "      <td>480</td>\n",
       "      <td>A</td>\n",
       "    </tr>\n",
       "    <tr>\n",
       "      <th>2</th>\n",
       "      <td>496</td>\n",
       "      <td>141</td>\n",
       "      <td>20</td>\n",
       "      <td>65</td>\n",
       "      <td>78</td>\n",
       "      <td>37</td>\n",
       "      <td>11</td>\n",
       "      <td>5628</td>\n",
       "      <td>1575</td>\n",
       "      <td>225</td>\n",
       "      <td>828</td>\n",
       "      <td>838</td>\n",
       "      <td>354</td>\n",
       "      <td>N</td>\n",
       "      <td>E</td>\n",
       "      <td>200</td>\n",
       "      <td>11</td>\n",
       "      <td>3</td>\n",
       "      <td>500</td>\n",
       "      <td>N</td>\n",
       "    </tr>\n",
       "    <tr>\n",
       "      <th>3</th>\n",
       "      <td>321</td>\n",
       "      <td>87</td>\n",
       "      <td>10</td>\n",
       "      <td>39</td>\n",
       "      <td>42</td>\n",
       "      <td>30</td>\n",
       "      <td>2</td>\n",
       "      <td>396</td>\n",
       "      <td>101</td>\n",
       "      <td>12</td>\n",
       "      <td>48</td>\n",
       "      <td>46</td>\n",
       "      <td>33</td>\n",
       "      <td>N</td>\n",
       "      <td>E</td>\n",
       "      <td>805</td>\n",
       "      <td>40</td>\n",
       "      <td>4</td>\n",
       "      <td>91</td>\n",
       "      <td>N</td>\n",
       "    </tr>\n",
       "    <tr>\n",
       "      <th>4</th>\n",
       "      <td>594</td>\n",
       "      <td>169</td>\n",
       "      <td>4</td>\n",
       "      <td>74</td>\n",
       "      <td>51</td>\n",
       "      <td>35</td>\n",
       "      <td>11</td>\n",
       "      <td>4408</td>\n",
       "      <td>1133</td>\n",
       "      <td>19</td>\n",
       "      <td>501</td>\n",
       "      <td>336</td>\n",
       "      <td>194</td>\n",
       "      <td>A</td>\n",
       "      <td>W</td>\n",
       "      <td>282</td>\n",
       "      <td>421</td>\n",
       "      <td>25</td>\n",
       "      <td>750</td>\n",
       "      <td>A</td>\n",
       "    </tr>\n",
       "  </tbody>\n",
       "</table>\n",
       "</div>"
      ],
      "text/plain": [
       "   AtBat  Hits  HmRun  Runs  RBI  ...  PutOuts  Assists  Errors  Salary  NewLeague\n",
       "0    315    81      7    24   38  ...      632       43      10     475          N\n",
       "1    479   130     18    66   72  ...      880       82      14     480          A\n",
       "2    496   141     20    65   78  ...      200       11       3     500          N\n",
       "3    321    87     10    39   42  ...      805       40       4      91          N\n",
       "4    594   169      4    74   51  ...      282      421      25     750          A\n",
       "\n",
       "[5 rows x 20 columns]"
      ]
     },
     "execution_count": 3,
     "metadata": {},
     "output_type": "execute_result"
    }
   ],
   "source": [
    "df.limit(5).toPandas()"
   ]
  },
  {
   "cell_type": "code",
   "execution_count": 6,
   "id": "50c73f36",
   "metadata": {},
   "outputs": [],
   "source": [
    "from _utils._eda_utils import *"
   ]
  },
  {
   "cell_type": "code",
   "execution_count": 7,
   "id": "439dc2a1",
   "metadata": {},
   "outputs": [
    {
     "name": "stdout",
     "output_type": "stream",
     "text": [
      "2023-04-18 05:48:06,496 - _utils.logging_utils - DEBUG - seperate_columns function executing...\n",
      "2023-04-18 05:48:06,498 - _utils.logging_utils - INFO - \n",
      "Numerical Columns: ['Hits', 'Years', 'CWalks', 'Errors', 'CRBI', 'Salary', 'CRuns', 'Walks', 'CHits', 'Runs', 'CHmRun', 'Assists', 'CAtBat', 'AtBat', 'HmRun', 'PutOuts', 'RBI']\n",
      "2023-04-18 05:48:06,500 - _utils.logging_utils - INFO - \n",
      "Categorical Columns: ['League', 'Division', 'NewLeague']\n"
     ]
    }
   ],
   "source": [
    "numeric_columns, categoric_columns = seperate_columns(df.dtypes)"
   ]
  },
  {
   "cell_type": "code",
   "execution_count": 8,
   "id": "ab0c33e4",
   "metadata": {},
   "outputs": [],
   "source": [
    "numeric_columns = [col for col in numeric_columns if col != 'Salary']"
   ]
  },
  {
   "cell_type": "markdown",
   "id": "5dcb1c7b",
   "metadata": {},
   "source": [
    "## Test Data"
   ]
  },
  {
   "cell_type": "code",
   "execution_count": 14,
   "id": "d1540d59",
   "metadata": {},
   "outputs": [],
   "source": [
    "from _utils._sklearn_models import *\n",
    "import warnings\n",
    "\n",
    "warnings.simplefilter(action='ignore', category=Warning)"
   ]
  },
  {
   "cell_type": "code",
   "execution_count": 16,
   "id": "90ccaae3",
   "metadata": {},
   "outputs": [],
   "source": [
    "X, y = prepare_dataframe(df.toPandas(), 'Salary')"
   ]
  },
  {
   "cell_type": "code",
   "execution_count": 17,
   "id": "40ddfad6",
   "metadata": {},
   "outputs": [],
   "source": [
    "test_model = LinearRegressionSklearn(X, y)\n",
    "test_model.init_model()"
   ]
  },
  {
   "cell_type": "code",
   "execution_count": 18,
   "id": "e41a54e6",
   "metadata": {},
   "outputs": [
    {
     "data": {
      "text/html": [
       "<div>\n",
       "<style scoped>\n",
       "    .dataframe tbody tr th:only-of-type {\n",
       "        vertical-align: middle;\n",
       "    }\n",
       "\n",
       "    .dataframe tbody tr th {\n",
       "        vertical-align: top;\n",
       "    }\n",
       "\n",
       "    .dataframe thead th {\n",
       "        text-align: right;\n",
       "    }\n",
       "</style>\n",
       "<table border=\"1\" class=\"dataframe\">\n",
       "  <thead>\n",
       "    <tr style=\"text-align: right;\">\n",
       "      <th></th>\n",
       "      <th>0</th>\n",
       "      <th>1</th>\n",
       "    </tr>\n",
       "  </thead>\n",
       "  <tbody>\n",
       "    <tr>\n",
       "      <th>5</th>\n",
       "      <td>neg_mean_squared_error</td>\n",
       "      <td>121132.085518</td>\n",
       "    </tr>\n",
       "    <tr>\n",
       "      <th>6</th>\n",
       "      <td>neg_root_mean_squared_error</td>\n",
       "      <td>342.132942</td>\n",
       "    </tr>\n",
       "    <tr>\n",
       "      <th>7</th>\n",
       "      <td>r2</td>\n",
       "      <td>0.343496</td>\n",
       "    </tr>\n",
       "  </tbody>\n",
       "</table>\n",
       "</div>"
      ],
      "text/plain": [
       "                             0              1\n",
       "5       neg_mean_squared_error  121132.085518\n",
       "6  neg_root_mean_squared_error     342.132942\n",
       "7                           r2       0.343496"
      ]
     },
     "execution_count": 18,
     "metadata": {},
     "output_type": "execute_result"
    }
   ],
   "source": [
    "test_model.get_scores()"
   ]
  },
  {
   "cell_type": "markdown",
   "id": "e65c9926",
   "metadata": {},
   "source": [
    "## Missing Values"
   ]
  },
  {
   "cell_type": "code",
   "execution_count": 19,
   "id": "2e2619ed",
   "metadata": {},
   "outputs": [],
   "source": [
    "from _utils._missing_utils import *"
   ]
  },
  {
   "cell_type": "code",
   "execution_count": 20,
   "id": "47b0ccc8",
   "metadata": {},
   "outputs": [],
   "source": [
    "df = replace_null(df)"
   ]
  },
  {
   "cell_type": "code",
   "execution_count": 21,
   "id": "a3dc030c",
   "metadata": {},
   "outputs": [
    {
     "name": "stdout",
     "output_type": "stream",
     "text": [
      "2023-04-18 05:52:55,539 - _utils.logging_utils - DEBUG - check_missing_values executing...\n"
     ]
    }
   ],
   "source": [
    "check_missing_values(df)"
   ]
  },
  {
   "cell_type": "markdown",
   "id": "8113ff0b",
   "metadata": {},
   "source": [
    "## Outliers\n",
    "We checked the outliers. Data does not contains outliers but it is good to check **local outliers.**"
   ]
  },
  {
   "cell_type": "code",
   "execution_count": 22,
   "id": "d16fe9e7",
   "metadata": {},
   "outputs": [],
   "source": [
    "from _utils._outliers_utils import *"
   ]
  },
  {
   "cell_type": "code",
   "execution_count": 23,
   "id": "30839698",
   "metadata": {},
   "outputs": [],
   "source": [
    "local = LocalOutliers(df=df, numerical_cols=numeric_columns)"
   ]
  },
  {
   "cell_type": "code",
   "execution_count": 24,
   "id": "aa79bfe6",
   "metadata": {},
   "outputs": [],
   "source": [
    "local.init_model()"
   ]
  },
  {
   "cell_type": "code",
   "execution_count": 25,
   "id": "4ddc3e53",
   "metadata": {},
   "outputs": [
    {
     "data": {
      "image/png": "[encoded data removed]",
      "text/plain": [
       "<Figure size 1080x720 with 1 Axes>"
      ]
     },
     "metadata": {},
     "output_type": "display_data"
    }
   ],
   "source": [
    "local.plot()"
   ]
  },
  {
   "cell_type": "code",
   "execution_count": 63,
   "id": "5e34e1e2",
   "metadata": {},
   "outputs": [
    {
     "name": "stdout",
     "output_type": "stream",
     "text": [
      "% 1.59 data is removed from dataset.\n",
      "4 is selected for local outliers threshold. Model Evaluation:\n",
      "\n",
      "                             0              1\n",
      "5       neg_mean_squared_error  104619.008033\n",
      "6  neg_root_mean_squared_error     320.981241\n",
      "7                           r2       0.393416\n",
      "% 1.59 data is removed from dataset.\n",
      "5 is selected for local outliers threshold. Model Evaluation:\n",
      "\n",
      "                             0              1\n",
      "5       neg_mean_squared_error  104619.008033\n",
      "6  neg_root_mean_squared_error     320.981241\n",
      "7                           r2       0.393416\n",
      "% 2.39 data is removed from dataset.\n",
      "6 is selected for local outliers threshold. Model Evaluation:\n",
      "\n",
      "                             0              1\n",
      "5       neg_mean_squared_error  105742.257815\n",
      "6  neg_root_mean_squared_error     323.215546\n",
      "7                           r2       0.382285\n",
      "% 2.79 data is removed from dataset.\n",
      "7 is selected for local outliers threshold. Model Evaluation:\n",
      "\n",
      "                             0              1\n",
      "5       neg_mean_squared_error  106315.331649\n",
      "6  neg_root_mean_squared_error     323.903232\n",
      "7                           r2       0.378908\n",
      "% 3.19 data is removed from dataset.\n",
      "8 is selected for local outliers threshold. Model Evaluation:\n",
      "\n",
      "                             0              1\n",
      "5       neg_mean_squared_error  104763.566767\n",
      "6  neg_root_mean_squared_error     321.142751\n",
      "7                           r2       0.387910\n",
      "% 3.59 data is removed from dataset.\n",
      "9 is selected for local outliers threshold. Model Evaluation:\n",
      "\n",
      "                             0              1\n",
      "5       neg_mean_squared_error  104273.250261\n",
      "6  neg_root_mean_squared_error     320.338330\n",
      "7                           r2       0.392960\n",
      "% 3.98 data is removed from dataset.\n",
      "10 is selected for local outliers threshold. Model Evaluation:\n",
      "\n",
      "                             0              1\n",
      "5       neg_mean_squared_error  104052.469856\n",
      "6  neg_root_mean_squared_error     319.655251\n",
      "7                           r2       0.393763\n",
      "% 4.38 data is removed from dataset.\n",
      "11 is selected for local outliers threshold. Model Evaluation:\n",
      "\n",
      "                             0              1\n",
      "5       neg_mean_squared_error  105213.994208\n",
      "6  neg_root_mean_squared_error     321.481266\n",
      "7                           r2       0.388372\n",
      "% 4.78 data is removed from dataset.\n",
      "12 is selected for local outliers threshold. Model Evaluation:\n",
      "\n",
      "                             0              1\n",
      "5       neg_mean_squared_error  106084.490306\n",
      "6  neg_root_mean_squared_error     322.643167\n",
      "7                           r2       0.385719\n",
      "% 5.18 data is removed from dataset.\n",
      "13 is selected for local outliers threshold. Model Evaluation:\n",
      "\n",
      "                             0             1\n",
      "5       neg_mean_squared_error  98292.670625\n",
      "6  neg_root_mean_squared_error    309.895302\n",
      "7                           r2      0.443543\n",
      "% 5.58 data is removed from dataset.\n",
      "14 is selected for local outliers threshold. Model Evaluation:\n",
      "\n",
      "                             0             1\n",
      "5       neg_mean_squared_error  95304.081119\n",
      "6  neg_root_mean_squared_error    305.519878\n",
      "7                           r2      0.433447\n"
     ]
    }
   ],
   "source": [
    "length = df.count()\n",
    "for threshold in range(4, 15):\n",
    "    local_outlier_df, non_local_outlier_df = local.get_local_outliers_df(threshold=threshold)\n",
    "    \n",
    "    X, y = prepare_df(non_local_outlier_df)\n",
    "\n",
    "    test_model = LinearRegressionSklearn(X, y)\n",
    "    test_model.init_model()\n",
    "    \n",
    "    print(f\"%{len(local_outlier_df) / length * 100: .2f} data is removed from dataset.\")\n",
    "    print(f\"{threshold} is selected for local outliers threshold. Model Evaluation:\\n\")\n",
    "    print(test_model.get_scores(cv=5))"
   ]
  },
  {
   "cell_type": "code",
   "execution_count": 64,
   "id": "fdfc11aa",
   "metadata": {},
   "outputs": [],
   "source": [
    "local_outlier_df, non_local_outlier_df = local.get_local_outliers_df(threshold=13)"
   ]
  },
  {
   "cell_type": "code",
   "execution_count": 65,
   "id": "5d38d51e",
   "metadata": {},
   "outputs": [
    {
     "data": {
      "text/html": [
       "<div>\n",
       "<style scoped>\n",
       "    .dataframe tbody tr th:only-of-type {\n",
       "        vertical-align: middle;\n",
       "    }\n",
       "\n",
       "    .dataframe tbody tr th {\n",
       "        vertical-align: top;\n",
       "    }\n",
       "\n",
       "    .dataframe thead th {\n",
       "        text-align: right;\n",
       "    }\n",
       "</style>\n",
       "<table border=\"1\" class=\"dataframe\">\n",
       "  <thead>\n",
       "    <tr style=\"text-align: right;\">\n",
       "      <th></th>\n",
       "      <th>AtBat</th>\n",
       "      <th>Hits</th>\n",
       "      <th>HmRun</th>\n",
       "      <th>Runs</th>\n",
       "      <th>RBI</th>\n",
       "      <th>Walks</th>\n",
       "      <th>Years</th>\n",
       "      <th>CAtBat</th>\n",
       "      <th>CHits</th>\n",
       "      <th>CHmRun</th>\n",
       "      <th>CRuns</th>\n",
       "      <th>CRBI</th>\n",
       "      <th>CWalks</th>\n",
       "      <th>League</th>\n",
       "      <th>Division</th>\n",
       "      <th>PutOuts</th>\n",
       "      <th>Assists</th>\n",
       "      <th>Errors</th>\n",
       "      <th>Salary</th>\n",
       "      <th>NewLeague</th>\n",
       "    </tr>\n",
       "  </thead>\n",
       "  <tbody>\n",
       "    <tr>\n",
       "      <th>5</th>\n",
       "      <td>185</td>\n",
       "      <td>37</td>\n",
       "      <td>1</td>\n",
       "      <td>23</td>\n",
       "      <td>8</td>\n",
       "      <td>21</td>\n",
       "      <td>2</td>\n",
       "      <td>214</td>\n",
       "      <td>42</td>\n",
       "      <td>1</td>\n",
       "      <td>30</td>\n",
       "      <td>9</td>\n",
       "      <td>24</td>\n",
       "      <td>N</td>\n",
       "      <td>E</td>\n",
       "      <td>76</td>\n",
       "      <td>127</td>\n",
       "      <td>7</td>\n",
       "      <td>70</td>\n",
       "      <td>A</td>\n",
       "    </tr>\n",
       "    <tr>\n",
       "      <th>54</th>\n",
       "      <td>507</td>\n",
       "      <td>122</td>\n",
       "      <td>29</td>\n",
       "      <td>78</td>\n",
       "      <td>85</td>\n",
       "      <td>91</td>\n",
       "      <td>18</td>\n",
       "      <td>7761</td>\n",
       "      <td>1947</td>\n",
       "      <td>347</td>\n",
       "      <td>1175</td>\n",
       "      <td>1152</td>\n",
       "      <td>1380</td>\n",
       "      <td>A</td>\n",
       "      <td>E</td>\n",
       "      <td>808</td>\n",
       "      <td>108</td>\n",
       "      <td>2</td>\n",
       "      <td>535</td>\n",
       "      <td>A</td>\n",
       "    </tr>\n",
       "    <tr>\n",
       "      <th>117</th>\n",
       "      <td>151</td>\n",
       "      <td>41</td>\n",
       "      <td>4</td>\n",
       "      <td>26</td>\n",
       "      <td>21</td>\n",
       "      <td>19</td>\n",
       "      <td>2</td>\n",
       "      <td>288</td>\n",
       "      <td>68</td>\n",
       "      <td>9</td>\n",
       "      <td>45</td>\n",
       "      <td>39</td>\n",
       "      <td>35</td>\n",
       "      <td>A</td>\n",
       "      <td>W</td>\n",
       "      <td>28</td>\n",
       "      <td>56</td>\n",
       "      <td>2</td>\n",
       "      <td>95</td>\n",
       "      <td>A</td>\n",
       "    </tr>\n",
       "    <tr>\n",
       "      <th>118</th>\n",
       "      <td>278</td>\n",
       "      <td>86</td>\n",
       "      <td>4</td>\n",
       "      <td>33</td>\n",
       "      <td>38</td>\n",
       "      <td>45</td>\n",
       "      <td>1</td>\n",
       "      <td>278</td>\n",
       "      <td>86</td>\n",
       "      <td>4</td>\n",
       "      <td>33</td>\n",
       "      <td>38</td>\n",
       "      <td>45</td>\n",
       "      <td>N</td>\n",
       "      <td>W</td>\n",
       "      <td>102</td>\n",
       "      <td>4</td>\n",
       "      <td>2</td>\n",
       "      <td>110</td>\n",
       "      <td>N</td>\n",
       "    </tr>\n",
       "    <tr>\n",
       "      <th>129</th>\n",
       "      <td>591</td>\n",
       "      <td>157</td>\n",
       "      <td>16</td>\n",
       "      <td>90</td>\n",
       "      <td>78</td>\n",
       "      <td>26</td>\n",
       "      <td>4</td>\n",
       "      <td>2020</td>\n",
       "      <td>541</td>\n",
       "      <td>52</td>\n",
       "      <td>310</td>\n",
       "      <td>226</td>\n",
       "      <td>91</td>\n",
       "      <td>N</td>\n",
       "      <td>E</td>\n",
       "      <td>290</td>\n",
       "      <td>440</td>\n",
       "      <td>25</td>\n",
       "      <td>640</td>\n",
       "      <td>N</td>\n",
       "    </tr>\n",
       "    <tr>\n",
       "      <th>132</th>\n",
       "      <td>429</td>\n",
       "      <td>91</td>\n",
       "      <td>12</td>\n",
       "      <td>41</td>\n",
       "      <td>42</td>\n",
       "      <td>57</td>\n",
       "      <td>13</td>\n",
       "      <td>5590</td>\n",
       "      <td>1397</td>\n",
       "      <td>83</td>\n",
       "      <td>578</td>\n",
       "      <td>579</td>\n",
       "      <td>644</td>\n",
       "      <td>A</td>\n",
       "      <td>W</td>\n",
       "      <td>686</td>\n",
       "      <td>46</td>\n",
       "      <td>4</td>\n",
       "      <td>825</td>\n",
       "      <td>N</td>\n",
       "    </tr>\n",
       "    <tr>\n",
       "      <th>162</th>\n",
       "      <td>209</td>\n",
       "      <td>56</td>\n",
       "      <td>12</td>\n",
       "      <td>22</td>\n",
       "      <td>36</td>\n",
       "      <td>19</td>\n",
       "      <td>2</td>\n",
       "      <td>216</td>\n",
       "      <td>58</td>\n",
       "      <td>12</td>\n",
       "      <td>24</td>\n",
       "      <td>37</td>\n",
       "      <td>19</td>\n",
       "      <td>N</td>\n",
       "      <td>E</td>\n",
       "      <td>201</td>\n",
       "      <td>6</td>\n",
       "      <td>3</td>\n",
       "      <td>90</td>\n",
       "      <td>N</td>\n",
       "    </tr>\n",
       "    <tr>\n",
       "      <th>172</th>\n",
       "      <td>20</td>\n",
       "      <td>1</td>\n",
       "      <td>0</td>\n",
       "      <td>0</td>\n",
       "      <td>0</td>\n",
       "      <td>0</td>\n",
       "      <td>2</td>\n",
       "      <td>41</td>\n",
       "      <td>9</td>\n",
       "      <td>2</td>\n",
       "      <td>6</td>\n",
       "      <td>7</td>\n",
       "      <td>4</td>\n",
       "      <td>N</td>\n",
       "      <td>E</td>\n",
       "      <td>78</td>\n",
       "      <td>220</td>\n",
       "      <td>6</td>\n",
       "      <td>2127</td>\n",
       "      <td>N</td>\n",
       "    </tr>\n",
       "    <tr>\n",
       "      <th>188</th>\n",
       "      <td>237</td>\n",
       "      <td>52</td>\n",
       "      <td>0</td>\n",
       "      <td>15</td>\n",
       "      <td>25</td>\n",
       "      <td>30</td>\n",
       "      <td>24</td>\n",
       "      <td>14053</td>\n",
       "      <td>4256</td>\n",
       "      <td>160</td>\n",
       "      <td>2165</td>\n",
       "      <td>1314</td>\n",
       "      <td>1566</td>\n",
       "      <td>N</td>\n",
       "      <td>W</td>\n",
       "      <td>523</td>\n",
       "      <td>43</td>\n",
       "      <td>6</td>\n",
       "      <td>750</td>\n",
       "      <td>N</td>\n",
       "    </tr>\n",
       "    <tr>\n",
       "      <th>200</th>\n",
       "      <td>419</td>\n",
       "      <td>101</td>\n",
       "      <td>18</td>\n",
       "      <td>65</td>\n",
       "      <td>58</td>\n",
       "      <td>92</td>\n",
       "      <td>20</td>\n",
       "      <td>9528</td>\n",
       "      <td>2510</td>\n",
       "      <td>548</td>\n",
       "      <td>1509</td>\n",
       "      <td>1659</td>\n",
       "      <td>1342</td>\n",
       "      <td>A</td>\n",
       "      <td>W</td>\n",
       "      <td>0</td>\n",
       "      <td>0</td>\n",
       "      <td>0</td>\n",
       "      <td>487</td>\n",
       "      <td>A</td>\n",
       "    </tr>\n",
       "    <tr>\n",
       "      <th>209</th>\n",
       "      <td>126</td>\n",
       "      <td>27</td>\n",
       "      <td>3</td>\n",
       "      <td>8</td>\n",
       "      <td>10</td>\n",
       "      <td>5</td>\n",
       "      <td>4</td>\n",
       "      <td>239</td>\n",
       "      <td>49</td>\n",
       "      <td>3</td>\n",
       "      <td>16</td>\n",
       "      <td>13</td>\n",
       "      <td>14</td>\n",
       "      <td>N</td>\n",
       "      <td>E</td>\n",
       "      <td>190</td>\n",
       "      <td>2</td>\n",
       "      <td>9</td>\n",
       "      <td>190</td>\n",
       "      <td>N</td>\n",
       "    </tr>\n",
       "    <tr>\n",
       "      <th>240</th>\n",
       "      <td>19</td>\n",
       "      <td>4</td>\n",
       "      <td>1</td>\n",
       "      <td>2</td>\n",
       "      <td>3</td>\n",
       "      <td>1</td>\n",
       "      <td>1</td>\n",
       "      <td>19</td>\n",
       "      <td>4</td>\n",
       "      <td>1</td>\n",
       "      <td>2</td>\n",
       "      <td>3</td>\n",
       "      <td>1</td>\n",
       "      <td>N</td>\n",
       "      <td>W</td>\n",
       "      <td>692</td>\n",
       "      <td>70</td>\n",
       "      <td>8</td>\n",
       "      <td>920</td>\n",
       "      <td>A</td>\n",
       "    </tr>\n",
       "    <tr>\n",
       "      <th>259</th>\n",
       "      <td>492</td>\n",
       "      <td>136</td>\n",
       "      <td>5</td>\n",
       "      <td>76</td>\n",
       "      <td>50</td>\n",
       "      <td>94</td>\n",
       "      <td>12</td>\n",
       "      <td>5511</td>\n",
       "      <td>1511</td>\n",
       "      <td>39</td>\n",
       "      <td>897</td>\n",
       "      <td>451</td>\n",
       "      <td>875</td>\n",
       "      <td>A</td>\n",
       "      <td>E</td>\n",
       "      <td>313</td>\n",
       "      <td>381</td>\n",
       "      <td>20</td>\n",
       "      <td>875</td>\n",
       "      <td>A</td>\n",
       "    </tr>\n",
       "  </tbody>\n",
       "</table>\n",
       "</div>"
      ],
      "text/plain": [
       "     AtBat  Hits  HmRun  Runs  RBI  ...  PutOuts  Assists  Errors  Salary  NewLeague\n",
       "5      185    37      1    23    8  ...       76      127       7      70          A\n",
       "54     507   122     29    78   85  ...      808      108       2     535          A\n",
       "117    151    41      4    26   21  ...       28       56       2      95          A\n",
       "118    278    86      4    33   38  ...      102        4       2     110          N\n",
       "129    591   157     16    90   78  ...      290      440      25     640          N\n",
       "132    429    91     12    41   42  ...      686       46       4     825          N\n",
       "162    209    56     12    22   36  ...      201        6       3      90          N\n",
       "172     20     1      0     0    0  ...       78      220       6    2127          N\n",
       "188    237    52      0    15   25  ...      523       43       6     750          N\n",
       "200    419   101     18    65   58  ...        0        0       0     487          A\n",
       "209    126    27      3     8   10  ...      190        2       9     190          N\n",
       "240     19     4      1     2    3  ...      692       70       8     920          A\n",
       "259    492   136      5    76   50  ...      313      381      20     875          A\n",
       "\n",
       "[13 rows x 20 columns]"
      ]
     },
     "execution_count": 65,
     "metadata": {},
     "output_type": "execute_result"
    }
   ],
   "source": [
    "local_outlier_df"
   ]
  },
  {
   "cell_type": "code",
   "execution_count": 66,
   "id": "71210169",
   "metadata": {},
   "outputs": [],
   "source": [
    "df = spark.createDataFrame(non_local_outlier_df)"
   ]
  },
  {
   "cell_type": "markdown",
   "id": "217f64fa",
   "metadata": {},
   "source": [
    "### Conclusion\n",
    "<div class=\"alert alert-block alert-info\"> <b>Final:</b> After handle local outliers, r2 increased <b>0.343496<b> to <b>0.443543<b> </div>"
   ]
  },
  {
   "cell_type": "markdown",
   "id": "217179a7",
   "metadata": {},
   "source": [
    "## Feature Extraction"
   ]
  },
  {
   "cell_type": "code",
   "execution_count": 67,
   "id": "930f391a",
   "metadata": {},
   "outputs": [],
   "source": [
    "def get_score(df):\n",
    "    X, y = prepare_df(df)\n",
    "\n",
    "    test_model = LinearRegressionSklearn(X, y)\n",
    "    test_model.init_model()\n",
    "    \n",
    "    score = test_model.get_scores()\n",
    "    \n",
    "    return score[score[0] == 'r2'][1].values[0] # r2 score"
   ]
  },
  {
   "cell_type": "code",
   "execution_count": 68,
   "id": "363c7823",
   "metadata": {},
   "outputs": [],
   "source": [
    "def compare_score(first_score=None, second_score=None):\n",
    "    return \"Success\" if max([first_score, second_score]) == second_score else \"Failed\""
   ]
  },
  {
   "cell_type": "code",
   "execution_count": 69,
   "id": "8a4d496d",
   "metadata": {},
   "outputs": [],
   "source": [
    "first_score = get_score(df.toPandas())"
   ]
  },
  {
   "cell_type": "code",
   "execution_count": 70,
   "id": "b593caaa",
   "metadata": {},
   "outputs": [
    {
     "data": {
      "text/plain": [
       "0.44354308825392347"
      ]
     },
     "execution_count": 70,
     "metadata": {},
     "output_type": "execute_result"
    }
   ],
   "source": [
    "first_score"
   ]
  },
  {
   "cell_type": "markdown",
   "id": "71789e19",
   "metadata": {},
   "source": [
    "### Batting Average\n",
    "This is the ratio of the number of hits to the number of at-bats. It could be a useful feature for predicting salary, as players with higher batting averages are generally considered to be better hitters."
   ]
  },
  {
   "cell_type": "code",
   "execution_count": 71,
   "id": "ed15b37a",
   "metadata": {},
   "outputs": [],
   "source": [
    "temp_df = df.withColumn('BatAvg', F.col('Hits') / F.col('AtBat'))"
   ]
  },
  {
   "cell_type": "code",
   "execution_count": 72,
   "id": "5d5c1f28",
   "metadata": {},
   "outputs": [
    {
     "data": {
      "text/plain": [
       "'Success'"
      ]
     },
     "execution_count": 72,
     "metadata": {},
     "output_type": "execute_result"
    }
   ],
   "source": [
    "compare_score(first_score, get_score(temp_df.toPandas()))"
   ]
  },
  {
   "cell_type": "code",
   "execution_count": 73,
   "id": "dd57a1bd",
   "metadata": {},
   "outputs": [],
   "source": [
    "df = temp_df"
   ]
  },
  {
   "cell_type": "code",
   "execution_count": 74,
   "id": "170da103",
   "metadata": {},
   "outputs": [],
   "source": [
    "first_score = get_score(df.toPandas())"
   ]
  },
  {
   "cell_type": "code",
   "execution_count": 75,
   "id": "ab8f63ee",
   "metadata": {},
   "outputs": [
    {
     "data": {
      "text/plain": [
       "0.4492564382962566"
      ]
     },
     "execution_count": 75,
     "metadata": {},
     "output_type": "execute_result"
    }
   ],
   "source": [
    "first_score"
   ]
  },
  {
   "cell_type": "markdown",
   "id": "e7d5476d",
   "metadata": {},
   "source": [
    "### On-base Percentage\n",
    "This is the ratio of the number of times a player reaches base (hits + walks + hit by pitch) to the number of plate appearances. It could be a useful feature for predicting salary, as players with higher on-base percentages are generally considered to be better at getting on base and creating scoring opportunities."
   ]
  },
  {
   "cell_type": "code",
   "execution_count": 76,
   "id": "0f38f3a1",
   "metadata": {},
   "outputs": [],
   "source": [
    "temp_df = df.withColumn('OBP', (F.col('Hits') + F.col('Walks')) / (F.col('AtBat') + F.col('Walks')))"
   ]
  },
  {
   "cell_type": "code",
   "execution_count": 77,
   "id": "d68d96aa",
   "metadata": {},
   "outputs": [
    {
     "data": {
      "text/plain": [
       "'Success'"
      ]
     },
     "execution_count": 77,
     "metadata": {},
     "output_type": "execute_result"
    }
   ],
   "source": [
    "compare_score(first_score, get_score(temp_df.toPandas()))"
   ]
  },
  {
   "cell_type": "code",
   "execution_count": 78,
   "id": "6ad119bc",
   "metadata": {},
   "outputs": [],
   "source": [
    "df = temp_df"
   ]
  },
  {
   "cell_type": "code",
   "execution_count": 79,
   "id": "cbf8dc8f",
   "metadata": {},
   "outputs": [],
   "source": [
    "first_score = get_score(df.toPandas())"
   ]
  },
  {
   "cell_type": "code",
   "execution_count": 80,
   "id": "0b656141",
   "metadata": {},
   "outputs": [
    {
     "data": {
      "text/plain": [
       "0.47021816948040795"
      ]
     },
     "execution_count": 80,
     "metadata": {},
     "output_type": "execute_result"
    }
   ],
   "source": [
    "first_score"
   ]
  },
  {
   "cell_type": "markdown",
   "id": "998486cc",
   "metadata": {},
   "source": [
    "### Slugging Percentage \n",
    "This is the total number of bases earned on hits divided by the number of at-bats. It could be a useful feature for predicting salary, as players with higher slugging percentages are generally considered to be more powerful hitters."
   ]
  },
  {
   "cell_type": "code",
   "execution_count": 81,
   "id": "01c5343d",
   "metadata": {},
   "outputs": [],
   "source": [
    "temp_df = df.withColumn('SLG', (F.col('Hits') + 2 * F.col('HmRun')) / F.col('AtBat'))"
   ]
  },
  {
   "cell_type": "code",
   "execution_count": 82,
   "id": "c8bcf9d6",
   "metadata": {},
   "outputs": [
    {
     "data": {
      "text/plain": [
       "'Failed'"
      ]
     },
     "execution_count": 82,
     "metadata": {},
     "output_type": "execute_result"
    }
   ],
   "source": [
    "compare_score(first_score, get_score(temp_df.toPandas()))"
   ]
  },
  {
   "cell_type": "markdown",
   "id": "58ce9fac",
   "metadata": {},
   "source": [
    "### Plate Appearances\n",
    "Plate appearances (PA) is a baseball statistic that represents the total number of times a batter has had the opportunity to bat during a game or a season."
   ]
  },
  {
   "cell_type": "code",
   "execution_count": 83,
   "id": "e6638509",
   "metadata": {},
   "outputs": [],
   "source": [
    "temp_df = df.withColumn('PA', F.col('AtBat') + F.col('Walks'))"
   ]
  },
  {
   "cell_type": "code",
   "execution_count": 84,
   "id": "9ec1af5f",
   "metadata": {},
   "outputs": [
    {
     "data": {
      "text/plain": [
       "'Success'"
      ]
     },
     "execution_count": 84,
     "metadata": {},
     "output_type": "execute_result"
    }
   ],
   "source": [
    "compare_score(first_score, get_score(temp_df.toPandas()))"
   ]
  },
  {
   "cell_type": "code",
   "execution_count": 85,
   "id": "be0e524a",
   "metadata": {},
   "outputs": [],
   "source": [
    "df = temp_df"
   ]
  },
  {
   "cell_type": "code",
   "execution_count": 86,
   "id": "c2bfdf66",
   "metadata": {},
   "outputs": [],
   "source": [
    "first_score = get_score(df.toPandas())"
   ]
  },
  {
   "cell_type": "code",
   "execution_count": 87,
   "id": "7151a29f",
   "metadata": {},
   "outputs": [
    {
     "data": {
      "text/plain": [
       "0.4702181694804127"
      ]
     },
     "execution_count": 87,
     "metadata": {},
     "output_type": "execute_result"
    }
   ],
   "source": [
    "first_score"
   ]
  },
  {
   "cell_type": "markdown",
   "id": "f6ec91a3",
   "metadata": {},
   "source": [
    "### Home Run Ratio\n",
    "Home run ratio is a statistic used in baseball to measure a player's power hitting ability. It is calculated as the number of home runs hit by a player divided by the number of at-bats."
   ]
  },
  {
   "cell_type": "code",
   "execution_count": 88,
   "id": "e3c5d2b3",
   "metadata": {},
   "outputs": [],
   "source": [
    "temp_df = df.withColumn('PA', F.col('HmRun') / F.col('AtBat'))"
   ]
  },
  {
   "cell_type": "code",
   "execution_count": 89,
   "id": "efc1f080",
   "metadata": {},
   "outputs": [
    {
     "data": {
      "text/plain": [
       "'Failed'"
      ]
     },
     "execution_count": 89,
     "metadata": {},
     "output_type": "execute_result"
    }
   ],
   "source": [
    "compare_score(first_score, get_score(temp_df.toPandas()))"
   ]
  },
  {
   "cell_type": "markdown",
   "id": "e31d8ddd",
   "metadata": {},
   "source": [
    "### Fielding Percentage\n",
    "Fielding percentage is a baseball statistic that measures a player's success rate in making defensive plays. Fielding percentage is a measure of a player's defensive ability and is often used in evaluating a player's overall performance."
   ]
  },
  {
   "cell_type": "code",
   "execution_count": 90,
   "id": "0ce83edc",
   "metadata": {},
   "outputs": [],
   "source": [
    "temp_df = df.withColumn('PA', (F.col('PutOuts') + F.col('Assists')) / \n",
    "                        (F.col('PutOuts') + F.col('Assists') + F.col('Errors')))"
   ]
  },
  {
   "cell_type": "code",
   "execution_count": 91,
   "id": "e122039e",
   "metadata": {},
   "outputs": [
    {
     "data": {
      "text/plain": [
       "'Failed'"
      ]
     },
     "execution_count": 91,
     "metadata": {},
     "output_type": "execute_result"
    }
   ],
   "source": [
    "compare_score(first_score, get_score(temp_df.toPandas().fillna(0)))"
   ]
  },
  {
   "cell_type": "markdown",
   "id": "a4b2c1b6",
   "metadata": {},
   "source": [
    "### Conclusion"
   ]
  },
  {
   "cell_type": "code",
   "execution_count": 92,
   "id": "cac1234b",
   "metadata": {},
   "outputs": [
    {
     "data": {
      "text/plain": [
       "0.4702181694804127"
      ]
     },
     "execution_count": 92,
     "metadata": {},
     "output_type": "execute_result"
    }
   ],
   "source": [
    "get_score(df.toPandas())"
   ]
  },
  {
   "cell_type": "markdown",
   "id": "1241bf7f",
   "metadata": {},
   "source": [
    "<div class=\"alert alert-block alert-info\"> <b>Final:</b> With new features, r2 increased <b>0.443543<b> to <b>0.470218<b> </div>"
   ]
  },
  {
   "cell_type": "markdown",
   "id": "f37d37e4",
   "metadata": {},
   "source": [
    "## Model Selection"
   ]
  },
  {
   "cell_type": "code",
   "execution_count": 93,
   "id": "3593a823",
   "metadata": {},
   "outputs": [],
   "source": [
    "from lazypredict.Supervised import LazyRegressor\n",
    "from sklearn.model_selection import train_test_split"
   ]
  },
  {
   "cell_type": "code",
   "execution_count": 94,
   "id": "0192f3b9",
   "metadata": {},
   "outputs": [],
   "source": [
    "X, y = prepare_df(df.toPandas())\n",
    "\n",
    "X_train, X_test, y_train, y_test = train_test_split(X, y)"
   ]
  },
  {
   "cell_type": "code",
   "execution_count": 95,
   "id": "8d2e1f04",
   "metadata": {},
   "outputs": [],
   "source": [
    "reg = LazyRegressor(verbose=0,ignore_warnings=False, custom_metric=None )"
   ]
  },
  {
   "cell_type": "code",
   "execution_count": 96,
   "id": "cf942908",
   "metadata": {},
   "outputs": [
    {
     "name": "stderr",
     "output_type": "stream",
     "text": [
      "100%|██████████| 42/42 [00:02<00:00, 18.63it/s]\n"
     ]
    }
   ],
   "source": [
    "models, predictions = reg.fit(X_train, X_test, y_train, y_test)"
   ]
  },
  {
   "cell_type": "code",
   "execution_count": 97,
   "id": "ce03052c",
   "metadata": {},
   "outputs": [
    {
     "data": {
      "text/html": [
       "<div>\n",
       "<style scoped>\n",
       "    .dataframe tbody tr th:only-of-type {\n",
       "        vertical-align: middle;\n",
       "    }\n",
       "\n",
       "    .dataframe tbody tr th {\n",
       "        vertical-align: top;\n",
       "    }\n",
       "\n",
       "    .dataframe thead th {\n",
       "        text-align: right;\n",
       "    }\n",
       "</style>\n",
       "<table border=\"1\" class=\"dataframe\">\n",
       "  <thead>\n",
       "    <tr style=\"text-align: right;\">\n",
       "      <th></th>\n",
       "      <th>Adjusted R-Squared</th>\n",
       "      <th>R-Squared</th>\n",
       "      <th>RMSE</th>\n",
       "      <th>Time Taken</th>\n",
       "    </tr>\n",
       "    <tr>\n",
       "      <th>Model</th>\n",
       "      <th></th>\n",
       "      <th></th>\n",
       "      <th></th>\n",
       "      <th></th>\n",
       "    </tr>\n",
       "  </thead>\n",
       "  <tbody>\n",
       "    <tr>\n",
       "      <th>RandomForestRegressor</th>\n",
       "      <td>0.55</td>\n",
       "      <td>0.71</td>\n",
       "      <td>235.15</td>\n",
       "      <td>0.32</td>\n",
       "    </tr>\n",
       "    <tr>\n",
       "      <th>BaggingRegressor</th>\n",
       "      <td>0.53</td>\n",
       "      <td>0.70</td>\n",
       "      <td>240.08</td>\n",
       "      <td>0.04</td>\n",
       "    </tr>\n",
       "    <tr>\n",
       "      <th>ExtraTreesRegressor</th>\n",
       "      <td>0.51</td>\n",
       "      <td>0.69</td>\n",
       "      <td>244.55</td>\n",
       "      <td>0.17</td>\n",
       "    </tr>\n",
       "    <tr>\n",
       "      <th>AdaBoostRegressor</th>\n",
       "      <td>0.50</td>\n",
       "      <td>0.68</td>\n",
       "      <td>247.52</td>\n",
       "      <td>0.09</td>\n",
       "    </tr>\n",
       "    <tr>\n",
       "      <th>GradientBoostingRegressor</th>\n",
       "      <td>0.45</td>\n",
       "      <td>0.64</td>\n",
       "      <td>261.12</td>\n",
       "      <td>0.17</td>\n",
       "    </tr>\n",
       "    <tr>\n",
       "      <th>XGBRegressor</th>\n",
       "      <td>0.42</td>\n",
       "      <td>0.63</td>\n",
       "      <td>266.77</td>\n",
       "      <td>0.13</td>\n",
       "    </tr>\n",
       "    <tr>\n",
       "      <th>HistGradientBoostingRegressor</th>\n",
       "      <td>0.40</td>\n",
       "      <td>0.61</td>\n",
       "      <td>270.89</td>\n",
       "      <td>0.18</td>\n",
       "    </tr>\n",
       "    <tr>\n",
       "      <th>TransformedTargetRegressor</th>\n",
       "      <td>0.37</td>\n",
       "      <td>0.60</td>\n",
       "      <td>277.68</td>\n",
       "      <td>0.01</td>\n",
       "    </tr>\n",
       "    <tr>\n",
       "      <th>LinearRegression</th>\n",
       "      <td>0.37</td>\n",
       "      <td>0.60</td>\n",
       "      <td>277.68</td>\n",
       "      <td>0.01</td>\n",
       "    </tr>\n",
       "    <tr>\n",
       "      <th>LassoLarsIC</th>\n",
       "      <td>0.37</td>\n",
       "      <td>0.59</td>\n",
       "      <td>277.79</td>\n",
       "      <td>0.01</td>\n",
       "    </tr>\n",
       "    <tr>\n",
       "      <th>LassoLars</th>\n",
       "      <td>0.37</td>\n",
       "      <td>0.59</td>\n",
       "      <td>278.92</td>\n",
       "      <td>0.02</td>\n",
       "    </tr>\n",
       "    <tr>\n",
       "      <th>Lasso</th>\n",
       "      <td>0.37</td>\n",
       "      <td>0.59</td>\n",
       "      <td>278.95</td>\n",
       "      <td>0.01</td>\n",
       "    </tr>\n",
       "    <tr>\n",
       "      <th>LGBMRegressor</th>\n",
       "      <td>0.37</td>\n",
       "      <td>0.59</td>\n",
       "      <td>279.07</td>\n",
       "      <td>0.05</td>\n",
       "    </tr>\n",
       "    <tr>\n",
       "      <th>Ridge</th>\n",
       "      <td>0.36</td>\n",
       "      <td>0.59</td>\n",
       "      <td>280.32</td>\n",
       "      <td>0.01</td>\n",
       "    </tr>\n",
       "    <tr>\n",
       "      <th>LassoLarsCV</th>\n",
       "      <td>0.35</td>\n",
       "      <td>0.58</td>\n",
       "      <td>282.53</td>\n",
       "      <td>0.03</td>\n",
       "    </tr>\n",
       "    <tr>\n",
       "      <th>LassoCV</th>\n",
       "      <td>0.35</td>\n",
       "      <td>0.58</td>\n",
       "      <td>282.62</td>\n",
       "      <td>0.11</td>\n",
       "    </tr>\n",
       "    <tr>\n",
       "      <th>HuberRegressor</th>\n",
       "      <td>0.34</td>\n",
       "      <td>0.58</td>\n",
       "      <td>283.78</td>\n",
       "      <td>0.04</td>\n",
       "    </tr>\n",
       "    <tr>\n",
       "      <th>KNeighborsRegressor</th>\n",
       "      <td>0.32</td>\n",
       "      <td>0.56</td>\n",
       "      <td>288.86</td>\n",
       "      <td>0.12</td>\n",
       "    </tr>\n",
       "    <tr>\n",
       "      <th>LarsCV</th>\n",
       "      <td>0.32</td>\n",
       "      <td>0.56</td>\n",
       "      <td>289.11</td>\n",
       "      <td>0.03</td>\n",
       "    </tr>\n",
       "    <tr>\n",
       "      <th>ElasticNet</th>\n",
       "      <td>0.31</td>\n",
       "      <td>0.56</td>\n",
       "      <td>290.24</td>\n",
       "      <td>0.01</td>\n",
       "    </tr>\n",
       "    <tr>\n",
       "      <th>RidgeCV</th>\n",
       "      <td>0.31</td>\n",
       "      <td>0.56</td>\n",
       "      <td>290.27</td>\n",
       "      <td>0.01</td>\n",
       "    </tr>\n",
       "    <tr>\n",
       "      <th>ElasticNetCV</th>\n",
       "      <td>0.31</td>\n",
       "      <td>0.56</td>\n",
       "      <td>290.28</td>\n",
       "      <td>0.05</td>\n",
       "    </tr>\n",
       "    <tr>\n",
       "      <th>BayesianRidge</th>\n",
       "      <td>0.31</td>\n",
       "      <td>0.56</td>\n",
       "      <td>290.68</td>\n",
       "      <td>0.01</td>\n",
       "    </tr>\n",
       "    <tr>\n",
       "      <th>PassiveAggressiveRegressor</th>\n",
       "      <td>0.31</td>\n",
       "      <td>0.55</td>\n",
       "      <td>291.41</td>\n",
       "      <td>0.01</td>\n",
       "    </tr>\n",
       "    <tr>\n",
       "      <th>TweedieRegressor</th>\n",
       "      <td>0.31</td>\n",
       "      <td>0.55</td>\n",
       "      <td>291.73</td>\n",
       "      <td>0.02</td>\n",
       "    </tr>\n",
       "    <tr>\n",
       "      <th>OrthogonalMatchingPursuitCV</th>\n",
       "      <td>0.30</td>\n",
       "      <td>0.55</td>\n",
       "      <td>292.67</td>\n",
       "      <td>0.01</td>\n",
       "    </tr>\n",
       "    <tr>\n",
       "      <th>SGDRegressor</th>\n",
       "      <td>0.30</td>\n",
       "      <td>0.55</td>\n",
       "      <td>293.83</td>\n",
       "      <td>0.01</td>\n",
       "    </tr>\n",
       "    <tr>\n",
       "      <th>OrthogonalMatchingPursuit</th>\n",
       "      <td>0.21</td>\n",
       "      <td>0.49</td>\n",
       "      <td>311.45</td>\n",
       "      <td>0.01</td>\n",
       "    </tr>\n",
       "    <tr>\n",
       "      <th>GammaRegressor</th>\n",
       "      <td>0.16</td>\n",
       "      <td>0.46</td>\n",
       "      <td>321.50</td>\n",
       "      <td>0.02</td>\n",
       "    </tr>\n",
       "    <tr>\n",
       "      <th>PoissonRegressor</th>\n",
       "      <td>-0.04</td>\n",
       "      <td>0.33</td>\n",
       "      <td>357.99</td>\n",
       "      <td>0.03</td>\n",
       "    </tr>\n",
       "    <tr>\n",
       "      <th>DecisionTreeRegressor</th>\n",
       "      <td>-0.29</td>\n",
       "      <td>0.17</td>\n",
       "      <td>397.96</td>\n",
       "      <td>0.01</td>\n",
       "    </tr>\n",
       "    <tr>\n",
       "      <th>RANSACRegressor</th>\n",
       "      <td>-0.33</td>\n",
       "      <td>0.14</td>\n",
       "      <td>403.98</td>\n",
       "      <td>0.10</td>\n",
       "    </tr>\n",
       "    <tr>\n",
       "      <th>DummyRegressor</th>\n",
       "      <td>-0.64</td>\n",
       "      <td>-0.06</td>\n",
       "      <td>449.56</td>\n",
       "      <td>0.01</td>\n",
       "    </tr>\n",
       "    <tr>\n",
       "      <th>NuSVR</th>\n",
       "      <td>-0.72</td>\n",
       "      <td>-0.11</td>\n",
       "      <td>459.70</td>\n",
       "      <td>0.01</td>\n",
       "    </tr>\n",
       "    <tr>\n",
       "      <th>SVR</th>\n",
       "      <td>-0.96</td>\n",
       "      <td>-0.27</td>\n",
       "      <td>491.23</td>\n",
       "      <td>0.01</td>\n",
       "    </tr>\n",
       "    <tr>\n",
       "      <th>ExtraTreeRegressor</th>\n",
       "      <td>-1.01</td>\n",
       "      <td>-0.29</td>\n",
       "      <td>496.49</td>\n",
       "      <td>0.01</td>\n",
       "    </tr>\n",
       "    <tr>\n",
       "      <th>QuantileRegressor</th>\n",
       "      <td>-1.05</td>\n",
       "      <td>-0.32</td>\n",
       "      <td>502.25</td>\n",
       "      <td>0.19</td>\n",
       "    </tr>\n",
       "    <tr>\n",
       "      <th>Lars</th>\n",
       "      <td>-1.55</td>\n",
       "      <td>-0.65</td>\n",
       "      <td>559.98</td>\n",
       "      <td>0.01</td>\n",
       "    </tr>\n",
       "    <tr>\n",
       "      <th>KernelRidge</th>\n",
       "      <td>-1.64</td>\n",
       "      <td>-0.70</td>\n",
       "      <td>569.48</td>\n",
       "      <td>0.01</td>\n",
       "    </tr>\n",
       "    <tr>\n",
       "      <th>LinearSVR</th>\n",
       "      <td>-1.71</td>\n",
       "      <td>-0.75</td>\n",
       "      <td>576.92</td>\n",
       "      <td>0.01</td>\n",
       "    </tr>\n",
       "    <tr>\n",
       "      <th>MLPRegressor</th>\n",
       "      <td>-3.04</td>\n",
       "      <td>-1.60</td>\n",
       "      <td>704.32</td>\n",
       "      <td>0.12</td>\n",
       "    </tr>\n",
       "    <tr>\n",
       "      <th>GaussianProcessRegressor</th>\n",
       "      <td>-3.11</td>\n",
       "      <td>-1.65</td>\n",
       "      <td>710.72</td>\n",
       "      <td>0.02</td>\n",
       "    </tr>\n",
       "  </tbody>\n",
       "</table>\n",
       "</div>"
      ],
      "text/plain": [
       "                               Adjusted R-Squared  R-Squared   RMSE  Time Taken\n",
       "Model                                                                          \n",
       "RandomForestRegressor                        0.55       0.71 235.15        0.32\n",
       "BaggingRegressor                             0.53       0.70 240.08        0.04\n",
       "ExtraTreesRegressor                          0.51       0.69 244.55        0.17\n",
       "AdaBoostRegressor                            0.50       0.68 247.52        0.09\n",
       "GradientBoostingRegressor                    0.45       0.64 261.12        0.17\n",
       "XGBRegressor                                 0.42       0.63 266.77        0.13\n",
       "HistGradientBoostingRegressor                0.40       0.61 270.89        0.18\n",
       "TransformedTargetRegressor                   0.37       0.60 277.68        0.01\n",
       "LinearRegression                             0.37       0.60 277.68        0.01\n",
       "LassoLarsIC                                  0.37       0.59 277.79        0.01\n",
       "LassoLars                                    0.37       0.59 278.92        0.02\n",
       "Lasso                                        0.37       0.59 278.95        0.01\n",
       "LGBMRegressor                                0.37       0.59 279.07        0.05\n",
       "Ridge                                        0.36       0.59 280.32        0.01\n",
       "LassoLarsCV                                  0.35       0.58 282.53        0.03\n",
       "LassoCV                                      0.35       0.58 282.62        0.11\n",
       "HuberRegressor                               0.34       0.58 283.78        0.04\n",
       "KNeighborsRegressor                          0.32       0.56 288.86        0.12\n",
       "LarsCV                                       0.32       0.56 289.11        0.03\n",
       "ElasticNet                                   0.31       0.56 290.24        0.01\n",
       "RidgeCV                                      0.31       0.56 290.27        0.01\n",
       "ElasticNetCV                                 0.31       0.56 290.28        0.05\n",
       "BayesianRidge                                0.31       0.56 290.68        0.01\n",
       "PassiveAggressiveRegressor                   0.31       0.55 291.41        0.01\n",
       "TweedieRegressor                             0.31       0.55 291.73        0.02\n",
       "OrthogonalMatchingPursuitCV                  0.30       0.55 292.67        0.01\n",
       "SGDRegressor                                 0.30       0.55 293.83        0.01\n",
       "OrthogonalMatchingPursuit                    0.21       0.49 311.45        0.01\n",
       "GammaRegressor                               0.16       0.46 321.50        0.02\n",
       "PoissonRegressor                            -0.04       0.33 357.99        0.03\n",
       "DecisionTreeRegressor                       -0.29       0.17 397.96        0.01\n",
       "RANSACRegressor                             -0.33       0.14 403.98        0.10\n",
       "DummyRegressor                              -0.64      -0.06 449.56        0.01\n",
       "NuSVR                                       -0.72      -0.11 459.70        0.01\n",
       "SVR                                         -0.96      -0.27 491.23        0.01\n",
       "ExtraTreeRegressor                          -1.01      -0.29 496.49        0.01\n",
       "QuantileRegressor                           -1.05      -0.32 502.25        0.19\n",
       "Lars                                        -1.55      -0.65 559.98        0.01\n",
       "KernelRidge                                 -1.64      -0.70 569.48        0.01\n",
       "LinearSVR                                   -1.71      -0.75 576.92        0.01\n",
       "MLPRegressor                                -3.04      -1.60 704.32        0.12\n",
       "GaussianProcessRegressor                    -3.11      -1.65 710.72        0.02"
      ]
     },
     "execution_count": 97,
     "metadata": {},
     "output_type": "execute_result"
    }
   ],
   "source": [
    "models"
   ]
  },
  {
   "cell_type": "markdown",
   "id": "a4041a12",
   "metadata": {},
   "source": [
    "## Random Forest Model"
   ]
  },
  {
   "cell_type": "code",
   "execution_count": 107,
   "id": "45bb9435",
   "metadata": {},
   "outputs": [],
   "source": [
    "from _utils._sklearn_models import * "
   ]
  },
  {
   "cell_type": "code",
   "execution_count": 108,
   "id": "a83b56ed",
   "metadata": {},
   "outputs": [],
   "source": [
    "model = RandomForestSklearn(X, y)"
   ]
  },
  {
   "cell_type": "code",
   "execution_count": 109,
   "id": "63e480a2",
   "metadata": {},
   "outputs": [],
   "source": [
    "model.init_model(0)"
   ]
  },
  {
   "cell_type": "code",
   "execution_count": 111,
   "id": "7b2d8c70",
   "metadata": {},
   "outputs": [
    {
     "data": {
      "text/html": [
       "<div>\n",
       "<style scoped>\n",
       "    .dataframe tbody tr th:only-of-type {\n",
       "        vertical-align: middle;\n",
       "    }\n",
       "\n",
       "    .dataframe tbody tr th {\n",
       "        vertical-align: top;\n",
       "    }\n",
       "\n",
       "    .dataframe thead th {\n",
       "        text-align: right;\n",
       "    }\n",
       "</style>\n",
       "<table border=\"1\" class=\"dataframe\">\n",
       "  <thead>\n",
       "    <tr style=\"text-align: right;\">\n",
       "      <th></th>\n",
       "      <th>0</th>\n",
       "      <th>1</th>\n",
       "    </tr>\n",
       "  </thead>\n",
       "  <tbody>\n",
       "    <tr>\n",
       "      <th>5</th>\n",
       "      <td>neg_mean_squared_error</td>\n",
       "      <td>74904.14</td>\n",
       "    </tr>\n",
       "    <tr>\n",
       "      <th>6</th>\n",
       "      <td>neg_root_mean_squared_error</td>\n",
       "      <td>267.19</td>\n",
       "    </tr>\n",
       "    <tr>\n",
       "      <th>7</th>\n",
       "      <td>r2</td>\n",
       "      <td>0.61</td>\n",
       "    </tr>\n",
       "  </tbody>\n",
       "</table>\n",
       "</div>"
      ],
      "text/plain": [
       "                             0        1\n",
       "5       neg_mean_squared_error 74904.14\n",
       "6  neg_root_mean_squared_error   267.19\n",
       "7                           r2     0.61"
      ]
     },
     "execution_count": 111,
     "metadata": {},
     "output_type": "execute_result"
    }
   ],
   "source": [
    "model.get_scores()"
   ]
  },
  {
   "cell_type": "code",
   "execution_count": 112,
   "id": "a6cf8a6e",
   "metadata": {},
   "outputs": [],
   "source": [
    "from sklearn.model_selection import GridSearchCV"
   ]
  },
  {
   "cell_type": "code",
   "execution_count": 113,
   "id": "3c61a40b",
   "metadata": {},
   "outputs": [
    {
     "data": {
      "text/plain": [
       "{'bootstrap': True,\n",
       " 'ccp_alpha': 0.0,\n",
       " 'criterion': 'squared_error',\n",
       " 'max_depth': None,\n",
       " 'max_features': 1.0,\n",
       " 'max_leaf_nodes': None,\n",
       " 'max_samples': None,\n",
       " 'min_impurity_decrease': 0.0,\n",
       " 'min_samples_leaf': 1,\n",
       " 'min_samples_split': 2,\n",
       " 'min_weight_fraction_leaf': 0.0,\n",
       " 'n_estimators': 100,\n",
       " 'n_jobs': None,\n",
       " 'oob_score': False,\n",
       " 'random_state': None,\n",
       " 'verbose': 0,\n",
       " 'warm_start': False}"
      ]
     },
     "execution_count": 113,
     "metadata": {},
     "output_type": "execute_result"
    }
   ],
   "source": [
    "model.model.get_params()"
   ]
  },
  {
   "cell_type": "code",
   "execution_count": 182,
   "id": "36fac8a8",
   "metadata": {},
   "outputs": [],
   "source": [
    "rf_params = {\"max_depth\": [None, 3, 5, 8, 10, 15],\n",
    "             \"max_features\": [None, 3, 5, 7, \"auto\"],\n",
    "             \"min_samples_split\": [2, 3, 4, 5, 8, 15, 20],\n",
    "             \"n_estimators\": [50, 100, 150, 200, 300, 400, 700]}"
   ]
  },
  {
   "cell_type": "code",
   "execution_count": 183,
   "id": "5f3d9a19",
   "metadata": {},
   "outputs": [
    {
     "name": "stdout",
     "output_type": "stream",
     "text": [
      "Fitting 5 folds for each of 1470 candidates, totalling 7350 fits\n"
     ]
    }
   ],
   "source": [
    "grid_model = GridSearchCV(model.model, rf_params,\n",
    "                          cv=5, n_jobs=-1, verbose=True).fit(X, y)"
   ]
  },
  {
   "cell_type": "code",
   "execution_count": 184,
   "id": "eb9335a6",
   "metadata": {},
   "outputs": [
    {
     "data": {
      "text/plain": [
       "{'max_depth': 15,\n",
       " 'max_features': 3,\n",
       " 'min_samples_split': 5,\n",
       " 'n_estimators': 200}"
      ]
     },
     "execution_count": 184,
     "metadata": {},
     "output_type": "execute_result"
    }
   ],
   "source": [
    "grid_model.best_params_"
   ]
  },
  {
   "cell_type": "code",
   "execution_count": 185,
   "id": "4224546d",
   "metadata": {},
   "outputs": [
    {
     "data": {
      "text/plain": [
       "0.6663248083192558"
      ]
     },
     "execution_count": 185,
     "metadata": {},
     "output_type": "execute_result"
    }
   ],
   "source": [
    "grid_model.best_score_"
   ]
  },
  {
   "cell_type": "code",
   "execution_count": 114,
   "id": "086f58de",
   "metadata": {},
   "outputs": [],
   "source": [
    "rf_params = {\n",
    "    'max_depth': 15,\n",
    "    'max_features': 3,\n",
    "    'min_samples_split': 5,\n",
    "    'n_estimators': 200\n",
    "}"
   ]
  },
  {
   "cell_type": "code",
   "execution_count": 115,
   "id": "aceeba7e",
   "metadata": {},
   "outputs": [
    {
     "data": {
      "text/html": [
       "<style>#sk-container-id-2 {color: black;background-color: white;}#sk-container-id-2 pre{padding: 0;}#sk-container-id-2 div.sk-toggleable {background-color: white;}#sk-container-id-2 label.sk-toggleable__label {cursor: pointer;display: block;width: 100%;margin-bottom: 0;padding: 0.3em;box-sizing: border-box;text-align: center;}#sk-container-id-2 label.sk-toggleable__label-arrow:before {content: \"▸\";float: left;margin-right: 0.25em;color: #696969;}#sk-container-id-2 label.sk-toggleable__label-arrow:hover:before {color: black;}#sk-container-id-2 div.sk-estimator:hover label.sk-toggleable__label-arrow:before {color: black;}#sk-container-id-2 div.sk-toggleable__content {max-height: 0;max-width: 0;overflow: hidden;text-align: left;background-color: #f0f8ff;}#sk-container-id-2 div.sk-toggleable__content pre {margin: 0.2em;color: black;border-radius: 0.25em;background-color: #f0f8ff;}#sk-container-id-2 input.sk-toggleable__control:checked~div.sk-toggleable__content {max-height: 200px;max-width: 100%;overflow: auto;}#sk-container-id-2 input.sk-toggleable__control:checked~label.sk-toggleable__label-arrow:before {content: \"▾\";}#sk-container-id-2 div.sk-estimator input.sk-toggleable__control:checked~label.sk-toggleable__label {background-color: #d4ebff;}#sk-container-id-2 div.sk-label input.sk-toggleable__control:checked~label.sk-toggleable__label {background-color: #d4ebff;}#sk-container-id-2 input.sk-hidden--visually {border: 0;clip: rect(1px 1px 1px 1px);clip: rect(1px, 1px, 1px, 1px);height: 1px;margin: -1px;overflow: hidden;padding: 0;position: absolute;width: 1px;}#sk-container-id-2 div.sk-estimator {font-family: monospace;background-color: #f0f8ff;border: 1px dotted black;border-radius: 0.25em;box-sizing: border-box;margin-bottom: 0.5em;}#sk-container-id-2 div.sk-estimator:hover {background-color: #d4ebff;}#sk-container-id-2 div.sk-parallel-item::after {content: \"\";width: 100%;border-bottom: 1px solid gray;flex-grow: 1;}#sk-container-id-2 div.sk-label:hover label.sk-toggleable__label {background-color: #d4ebff;}#sk-container-id-2 div.sk-serial::before {content: \"\";position: absolute;border-left: 1px solid gray;box-sizing: border-box;top: 0;bottom: 0;left: 50%;z-index: 0;}#sk-container-id-2 div.sk-serial {display: flex;flex-direction: column;align-items: center;background-color: white;padding-right: 0.2em;padding-left: 0.2em;position: relative;}#sk-container-id-2 div.sk-item {position: relative;z-index: 1;}#sk-container-id-2 div.sk-parallel {display: flex;align-items: stretch;justify-content: center;background-color: white;position: relative;}#sk-container-id-2 div.sk-item::before, #sk-container-id-2 div.sk-parallel-item::before {content: \"\";position: absolute;border-left: 1px solid gray;box-sizing: border-box;top: 0;bottom: 0;left: 50%;z-index: -1;}#sk-container-id-2 div.sk-parallel-item {display: flex;flex-direction: column;z-index: 1;position: relative;background-color: white;}#sk-container-id-2 div.sk-parallel-item:first-child::after {align-self: flex-end;width: 50%;}#sk-container-id-2 div.sk-parallel-item:last-child::after {align-self: flex-start;width: 50%;}#sk-container-id-2 div.sk-parallel-item:only-child::after {width: 0;}#sk-container-id-2 div.sk-dashed-wrapped {border: 1px dashed gray;margin: 0 0.4em 0.5em 0.4em;box-sizing: border-box;padding-bottom: 0.4em;background-color: white;}#sk-container-id-2 div.sk-label label {font-family: monospace;font-weight: bold;display: inline-block;line-height: 1.2em;}#sk-container-id-2 div.sk-label-container {text-align: center;}#sk-container-id-2 div.sk-container {/* jupyter's `normalize.less` sets `[hidden] { display: none; }` but bootstrap.min.css set `[hidden] { display: none !important; }` so we also need the `!important` here to be able to override the default hidden behavior on the sphinx rendered scikit-learn.org. See: https://github.com/scikit-learn/scikit-learn/issues/21755 */display: inline-block !important;position: relative;}#sk-container-id-2 div.sk-text-repr-fallback {display: none;}</style><div id=\"sk-container-id-2\" class=\"sk-top-container\"><div class=\"sk-text-repr-fallback\"><pre>RandomForestRegressor(max_depth=15, max_features=3, min_samples_split=5,\n",
       "                      n_estimators=200)</pre><b>In a Jupyter environment, please rerun this cell to show the HTML representation or trust the notebook. <br />On GitHub, the HTML representation is unable to render, please try loading this page with nbviewer.org.</b></div><div class=\"sk-container\" hidden><div class=\"sk-item\"><div class=\"sk-estimator sk-toggleable\"><input class=\"sk-toggleable__control sk-hidden--visually\" id=\"sk-estimator-id-2\" type=\"checkbox\" checked><label for=\"sk-estimator-id-2\" class=\"sk-toggleable__label sk-toggleable__label-arrow\">RandomForestRegressor</label><div class=\"sk-toggleable__content\"><pre>RandomForestRegressor(max_depth=15, max_features=3, min_samples_split=5,\n",
       "                      n_estimators=200)</pre></div></div></div></div></div>"
      ],
      "text/plain": [
       "RandomForestRegressor(max_depth=15, max_features=3, min_samples_split=5,\n",
       "                      n_estimators=200)"
      ]
     },
     "execution_count": 115,
     "metadata": {},
     "output_type": "execute_result"
    }
   ],
   "source": [
    "model.model.set_params(**rf_params).fit(X, y)"
   ]
  },
  {
   "cell_type": "code",
   "execution_count": 116,
   "id": "8e83e994",
   "metadata": {},
   "outputs": [
    {
     "data": {
      "text/html": [
       "<div>\n",
       "<style scoped>\n",
       "    .dataframe tbody tr th:only-of-type {\n",
       "        vertical-align: middle;\n",
       "    }\n",
       "\n",
       "    .dataframe tbody tr th {\n",
       "        vertical-align: top;\n",
       "    }\n",
       "\n",
       "    .dataframe thead th {\n",
       "        text-align: right;\n",
       "    }\n",
       "</style>\n",
       "<table border=\"1\" class=\"dataframe\">\n",
       "  <thead>\n",
       "    <tr style=\"text-align: right;\">\n",
       "      <th></th>\n",
       "      <th>0</th>\n",
       "      <th>1</th>\n",
       "    </tr>\n",
       "  </thead>\n",
       "  <tbody>\n",
       "    <tr>\n",
       "      <th>5</th>\n",
       "      <td>neg_mean_squared_error</td>\n",
       "      <td>73253.77</td>\n",
       "    </tr>\n",
       "    <tr>\n",
       "      <th>6</th>\n",
       "      <td>neg_root_mean_squared_error</td>\n",
       "      <td>262.47</td>\n",
       "    </tr>\n",
       "    <tr>\n",
       "      <th>7</th>\n",
       "      <td>r2</td>\n",
       "      <td>0.63</td>\n",
       "    </tr>\n",
       "  </tbody>\n",
       "</table>\n",
       "</div>"
      ],
      "text/plain": [
       "                             0        1\n",
       "5       neg_mean_squared_error 73253.77\n",
       "6  neg_root_mean_squared_error   262.47\n",
       "7                           r2     0.63"
      ]
     },
     "execution_count": 116,
     "metadata": {},
     "output_type": "execute_result"
    }
   ],
   "source": [
    "model.get_scores()"
   ]
  },
  {
   "cell_type": "markdown",
   "id": "e55e57b1",
   "metadata": {},
   "source": [
    "## Feature Importance"
   ]
  },
  {
   "cell_type": "code",
   "execution_count": 117,
   "id": "60e0f785",
   "metadata": {},
   "outputs": [
    {
     "name": "stdout",
     "output_type": "stream",
     "text": [
      "2023-04-18 06:09:55,866 - _utils.logging_utils - DEBUG - visualize_feature_importance function is executing...\n",
      "2023-04-18 06:09:55,888 - _utils.logging_utils - INFO - Feature importances for the machine learning model:\n",
      "    Value      Feature\n",
      "0    4.59        AtBat\n",
      "1    5.01         Hits\n",
      "2    2.93        HmRun\n",
      "3    3.30         Runs\n",
      "4    4.31          RBI\n",
      "5    5.17        Walks\n",
      "6    3.90        Years\n",
      "7    9.01       CAtBat\n",
      "8    8.46        CHits\n",
      "9    7.82       CHmRun\n",
      "10   9.87        CRuns\n",
      "11  10.85         CRBI\n",
      "12   6.95       CWalks\n",
      "13   2.73      PutOuts\n",
      "14   1.07      Assists\n",
      "15   1.29       Errors\n",
      "16   2.23       BatAvg\n",
      "17   4.33          OBP\n",
      "18   5.44           PA\n",
      "19   0.21     League_N\n",
      "20   0.29   Division_W\n",
      "21   0.26  NewLeague_N\n"
     ]
    },
    {
     "data": {
      "image/png": "[encoded data removed]",
      "text/plain": [
       "<Figure size 1080x720 with 1 Axes>"
      ]
     },
     "metadata": {},
     "output_type": "display_data"
    }
   ],
   "source": [
    "model.visualize_feature_importance()"
   ]
  },
  {
   "cell_type": "code",
   "execution_count": 118,
   "id": "f65275f5",
   "metadata": {},
   "outputs": [],
   "source": [
    "spark.stop()"
   ]
  },
  {
   "cell_type": "markdown",
   "id": "c7df0bb9",
   "metadata": {},
   "source": [
    "## Final\n",
    "<div class=\"alert alert-block alert-info\"> <b>Final:</b> With new features, r2 increased <b>0.47<b> to <b>0.63<b> </div>"
   ]
  }
 ],
 "metadata": {
  "kernelspec": {
   "display_name": "Python 3 (Spyder)",
   "language": "python3",
   "name": "python3"
  },
  "language_info": {
   "codemirror_mode": {
    "name": "ipython",
    "version": 3
   },
   "file_extension": ".py",
   "mimetype": "text/x-python",
   "name": "python",
   "nbconvert_exporter": "python",
   "pygments_lexer": "ipython3",
   "version": "3.9.13"
  }
 },
 "nbformat": 4,
 "nbformat_minor": 5
}
